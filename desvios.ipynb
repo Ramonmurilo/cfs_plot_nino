{
 "cells": [
  {
   "cell_type": "code",
   "execution_count": 1,
   "id": "f2f6a294-f5cc-4019-b9a1-6c9b338bb7e3",
   "metadata": {},
   "outputs": [],
   "source": [
    "import xarray as xr"
   ]
  },
  {
   "cell_type": "code",
   "execution_count": null,
   "id": "34f32089-00a7-4cea-9794-df27e744f1f0",
   "metadata": {},
   "outputs": [],
   "source": [
    "xr"
   ]
  }
 ],
 "metadata": {
  "kernelspec": {
   "display_name": "Python 3",
   "language": "python",
   "name": "python3"
  },
  "language_info": {
   "codemirror_mode": {
    "name": "ipython",
    "version": 3
   },
   "file_extension": ".py",
   "mimetype": "text/x-python",
   "name": "python",
   "nbconvert_exporter": "python",
   "pygments_lexer": "ipython3",
   "version": "3.9.13"
  }
 },
 "nbformat": 4,
 "nbformat_minor": 5
}
