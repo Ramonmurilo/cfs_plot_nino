{
 "cells": [
  {
   "cell_type": "code",
   "execution_count": 5,
   "id": "c00ac14c-afd1-4ac9-9fc8-8ce07687b9e8",
   "metadata": {},
   "outputs": [],
   "source": [
    "import botree\n",
    "import pendulum"
   ]
  },
  {
   "cell_type": "code",
   "execution_count": 3,
   "id": "711b8a6a-9997-4ead-9352-492249b245bd",
   "metadata": {},
   "outputs": [],
   "source": [
    "session = botree.session(\"us-east-1\")"
   ]
  },
  {
   "cell_type": "code",
   "execution_count": 4,
   "id": "1b267a19-39f4-46ce-85c4-c6dc93796c6c",
   "metadata": {},
   "outputs": [],
   "source": [
    "ciclo_base = '00'\n",
    "resolucao_temporal = 'monthly_grib'\n",
    "ciclos = ['00', '06', '12', '18']"
   ]
  },
  {
   "cell_type": "code",
   "execution_count": 6,
   "id": "0a185f05-caae-4de1-83d1-6581aa39fc24",
   "metadata": {},
   "outputs": [],
   "source": [
    "data_requerida = '19-09-2022'"
   ]
  },
  {
   "cell_type": "code",
   "execution_count": 13,
   "id": "0d6bfdaf-2b9a-4dfe-91a5-1e7bf055fb0c",
   "metadata": {},
   "outputs": [],
   "source": [
    "inicio = pendulum.from_format(data_requerida, 'DD-MM-YYYY')\n",
    "final = inicio.subtract(days=9)\n",
    "periodo = pendulum.period(inicio, final)"
   ]
  },
  {
   "cell_type": "code",
   "execution_count": 9,
   "id": "3246ac91-229a-47b2-8a97-8028b0088c01",
   "metadata": {},
   "outputs": [
    {
     "data": {
      "text/plain": [
       "DateTime(2022, 9, 10, 0, 0, 0, tzinfo=Timezone('UTC'))"
      ]
     },
     "execution_count": 9,
     "metadata": {},
     "output_type": "execute_result"
    }
   ],
   "source": [
    "for data in periodo.range('days'):\n",
    "    for ciclo in ciclos:\n",
    "        \n",
    "        data_fmt = data.format('YYYYMMDD')\n",
    "        for membro in ['1']:\n",
    "            prefixo = f\"cfs.{data_fmt}/{ciclo}/{resolucao_temporal}_{membro.zfill(2)}/ocnf.{membro.zfill(2)}\"\n",
    "\n",
    "            dir_membro = Path(data_fmt, membro)\n",
    "            dir_membro.mkdir(exist_ok=True, parents=True)\n",
    "\n",
    "            arquivos_ocn = session.s3.bucket(bucket).list_objects(prefixo)\n",
    "\n",
    "\n",
    "            diretorio_ciclo = dir_membro.joinpath(ciclo)\n",
    "            diretorio_ciclo.mkdir(exist_ok=True, parents=True)\n",
    "            arquivos_ja_baixados = list(diretorio_ciclo.glob(\"*grb2\"))\n",
    "\n",
    "            arquivos_da_rodada = list()\n",
    "            for arquivo in arquivos_ocn:\n",
    "                if arquivo.endswith(f'{ciclo}Z.grb2'):\n",
    "                    arquivo_path = Path(arquivo)\n",
    "                    arquivo_local = diretorio_ciclo.joinpath(arquivo_path.name)\n",
    "                    if arquivo_local in arquivos_ja_baixados:\n",
    "                        pass\n",
    "                    else:\n",
    "                        session.s3.bucket(bucket).download(arquivo, arquivo_local)\n",
    "                    arquivos_da_rodada.append(arquivo_local)\n",
    "            \n",
    "            arquivos_locais = [diretorio_ciclo.joinpath(Path(arquivo).name) for arquivo in arquivos_da_rodada]\n",
    "            ds = xr.open_mfdataset(\n",
    "                arquivos_locais[:],\n",
    "                engine='cfgrib',\n",
    "                combine='nested',\n",
    "                concat_dim='valid_time',\n",
    "                backend_kwargs=dict(\n",
    "                    filter_by_keys=dict(\n",
    "                        typeOfLevel='surface', shortName='t'\n",
    "                    )\n",
    "                )\n",
    "            )\n",
    "                \n",
    "            ds_padronizado = padronizar_longitude(ds)\n",
    "            nino = delimitar_regiao2(obj=ds_padronizado, indice=ninos[3])\n",
    "            #ds_celsius = converter_para_celsius(nino)\n",
    "            nino_df = nino.to_dataframe()\n",
    "\n",
    "            nino_df.drop(columns=['time', 'step', 'surface'], inplace=True)\n",
    "            nino_df.rename(columns={'t': f\"{data.format('%Y%m%d')}_{membro}_{ciclo}\"}, inplace=True)\n",
    "\n",
    "            n_passos = len(nino_df.index)\n",
    "            passos = range(1, n_passos + 1, 1)\n",
    "            meses_previstos = [data.add(months=passo).replace(day=1) for passo in passos]\n",
    "            nino_df = nino_df.assign(data=meses_previstos)\n",
    "            nino_df.set_index('data', inplace=True)\n",
    "            \n",
    "            dados.append(nino_df)\n",
    "\n",
    "df_mensal = pd.concat(dados, axis=1)\n",
    "datas_e_ciclos = df_mensal.columns\n",
    "df_mensal = df_mensal.assign(mes=df_mensal.index.month)"
   ]
  }
 ],
 "metadata": {
  "kernelspec": {
   "display_name": "Python 3",
   "language": "python",
   "name": "python3"
  },
  "language_info": {
   "codemirror_mode": {
    "name": "ipython",
    "version": 3
   },
   "file_extension": ".py",
   "mimetype": "text/x-python",
   "name": "python",
   "nbconvert_exporter": "python",
   "pygments_lexer": "ipython3",
   "version": "3.9.13"
  }
 },
 "nbformat": 4,
 "nbformat_minor": 5
}
